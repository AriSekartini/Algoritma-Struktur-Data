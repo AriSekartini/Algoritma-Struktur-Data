{
 "cells": [
  {
   "cell_type": "markdown",
   "id": "3f197b03",
   "metadata": {},
   "source": [
    "LATIHAN : Buatlah program untuk merubah nomor HP yang tadinya berupa angka menjadi sebutan bilangan tersebut. "
   ]
  },
  {
   "cell_type": "code",
   "execution_count": 2,
   "id": "d1e65dae",
   "metadata": {},
   "outputs": [],
   "source": [
    "angka ={\n",
    "    \"0\" : \"nol\",\n",
    "    \"1\" : \"satu\",\n",
    "    \"2\" : \"dua\",\n",
    "    \"3\" : \"tiga\",\n",
    "    \"4\" : \"empat\",\n",
    "    \"5\" : \"lima\",\n",
    "    \"6\" : \"enam\",\n",
    "    \"7\" : \"tujuh\",\n",
    "    \"8\" : \"delapan\",\n",
    "    \"9\" : \"sembilan\"\n",
    "}"
   ]
  },
  {
   "cell_type": "code",
   "execution_count": 3,
   "id": "be8af948",
   "metadata": {},
   "outputs": [
    {
     "name": "stdout",
     "output_type": "stream",
     "text": [
      "Masukkan nomor HP anda 081246389401\n",
      "nol delapan satu dua empat enam tiga delapan sembilan empat nol satu \n"
     ]
    }
   ],
   "source": [
    "nomor_HP = input(\"Masukkan nomor HP anda \")\n",
    "nomor_angka = \"\"\n",
    "for isi in nomor_HP:\n",
    "    nomor_angka += angka.get(isi) + \" \"\n",
    "print(nomor_angka)"
   ]
  },
  {
   "cell_type": "code",
   "execution_count": 5,
   "id": "8483afe8",
   "metadata": {},
   "outputs": [
    {
     "name": "stdout",
     "output_type": "stream",
     "text": [
      "Masukkan nomor HP anda 081246389401\n",
      "1. nol delapan satu dua empat enam tiga delapan sembilan empat nol satu \n"
     ]
    }
   ],
   "source": [
    "nomor_HP = input(\"Masukkan nomor HP anda \")\n",
    "nomor_angka = \"1. \"\n",
    "for isi in nomor_HP:\n",
    "    nomor_angka += angka.get(isi) + \" \"\n",
    "print(nomor_angka)"
   ]
  },
  {
   "cell_type": "code",
   "execution_count": null,
   "id": "471d507e",
   "metadata": {},
   "outputs": [],
   "source": []
  }
 ],
 "metadata": {
  "kernelspec": {
   "display_name": "Python 3 (ipykernel)",
   "language": "python",
   "name": "python3"
  },
  "language_info": {
   "codemirror_mode": {
    "name": "ipython",
    "version": 3
   },
   "file_extension": ".py",
   "mimetype": "text/x-python",
   "name": "python",
   "nbconvert_exporter": "python",
   "pygments_lexer": "ipython3",
   "version": "3.9.7"
  }
 },
 "nbformat": 4,
 "nbformat_minor": 5
}
