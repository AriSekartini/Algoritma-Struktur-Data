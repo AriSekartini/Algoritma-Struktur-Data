{
 "cells": [
  {
   "cell_type": "code",
   "execution_count": 1,
   "id": "ba2b86c8",
   "metadata": {},
   "outputs": [
    {
     "name": "stdout",
     "output_type": "stream",
     "text": [
      "Ini Kelas Algoritma!\n"
     ]
    }
   ],
   "source": [
    "print('Ini Kelas Algoritma!')"
   ]
  },
  {
   "cell_type": "code",
   "execution_count": 2,
   "id": "bdeba1e6",
   "metadata": {},
   "outputs": [
    {
     "name": "stdout",
     "output_type": "stream",
     "text": [
      "Ini Kelas Algoritma\n"
     ]
    }
   ],
   "source": [
    "print(\"Ini Kelas Algoritma\")"
   ]
  },
  {
   "cell_type": "code",
   "execution_count": 3,
   "id": "13f7cf5f",
   "metadata": {},
   "outputs": [
    {
     "name": "stdout",
     "output_type": "stream",
     "text": [
      "I don't understant what are you saying\n"
     ]
    }
   ],
   "source": [
    "print(\"I don't understant what are you saying\")"
   ]
  },
  {
   "cell_type": "code",
   "execution_count": null,
   "id": "a8b13aee",
   "metadata": {},
   "outputs": [],
   "source": [
    "print('I don't understant what are you saying')"
   ]
  },
  {
   "cell_type": "code",
   "execution_count": 4,
   "id": "267c8832",
   "metadata": {},
   "outputs": [
    {
     "name": "stdout",
     "output_type": "stream",
     "text": [
      "He is such a \"GENIUS\"\n"
     ]
    }
   ],
   "source": [
    "print('He is such a \"GENIUS\"')"
   ]
  },
  {
   "cell_type": "code",
   "execution_count": null,
   "id": "bad65243",
   "metadata": {},
   "outputs": [],
   "source": [
    "print(\"He is such a \"GENIUS\"\")"
   ]
  },
  {
   "cell_type": "code",
   "execution_count": 6,
   "id": "48c14169",
   "metadata": {},
   "outputs": [
    {
     "name": "stdout",
     "output_type": "stream",
     "text": [
      "42\n",
      "100000\n",
      "4200000\n"
     ]
    }
   ],
   "source": [
    "mahasiswa = 42\n",
    "uang_di_dompet = 100000\n",
    "print(mahasiswa)\n",
    "print(uang_di_dompet)\n",
    "print(mahasiswa*uang_di_dompet)"
   ]
  },
  {
   "cell_type": "code",
   "execution_count": 7,
   "id": "e89d6fd2",
   "metadata": {},
   "outputs": [
    {
     "name": "stdout",
     "output_type": "stream",
     "text": [
      "Angga Saputra\n"
     ]
    }
   ],
   "source": [
    "nama_depan = 'Angga'\n",
    "nama_tengah = ' '\n",
    "nama_belakang = \"Saputra\"\n",
    "print(nama_depan + nama_tengah + nama_belakang)"
   ]
  },
  {
   "cell_type": "code",
   "execution_count": 8,
   "id": "d510c2cb",
   "metadata": {},
   "outputs": [
    {
     "name": "stdout",
     "output_type": "stream",
     "text": [
      "arisekartini\n"
     ]
    }
   ],
   "source": [
    "nama_depan ='ari'\n",
    "nama_tengah ='sekar'\n",
    "nama_belakang = 'tini'\n",
    "print(nama_depan + nama_tengah + nama_belakang)"
   ]
  },
  {
   "cell_type": "code",
   "execution_count": null,
   "id": "9679f30d",
   "metadata": {},
   "outputs": [],
   "source": []
  }
 ],
 "metadata": {
  "kernelspec": {
   "display_name": "Python 3 (ipykernel)",
   "language": "python",
   "name": "python3"
  },
  "language_info": {
   "codemirror_mode": {
    "name": "ipython",
    "version": 3
   },
   "file_extension": ".py",
   "mimetype": "text/x-python",
   "name": "python",
   "nbconvert_exporter": "python",
   "pygments_lexer": "ipython3",
   "version": "3.9.7"
  }
 },
 "nbformat": 4,
 "nbformat_minor": 5
}
