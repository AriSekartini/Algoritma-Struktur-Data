{
 "cells": [
  {
   "cell_type": "code",
   "execution_count": 1,
   "id": "816dc312",
   "metadata": {},
   "outputs": [
    {
     "name": "stdout",
     "output_type": "stream",
     "text": [
      "Nama anda adalah Ari Sekar\n",
      "Pekerjaan anda adalah Mahasiswa\n",
      "Institusi anda adalah Universitas Udayana\n",
      "Nama saya adalah Ari Sekar. Saya bekerja sebagai Mahasiswa di Universitas Udayana.\n"
     ]
    }
   ],
   "source": [
    "nama = input(\"Nama anda adalah \")\n",
    "pekerjaan = input(\"Pekerjaan anda adalah \")\n",
    "institusi = input(\"Institusi anda adalah \")\n",
    "\n",
    "print(\"Nama saya adalah \" + nama +\". Saya bekerja sebagai \"+ pekerjaan +\" di \"+ institusi + \".\")"
   ]
  },
  {
   "cell_type": "code",
   "execution_count": 2,
   "id": "7ef5e3b5",
   "metadata": {},
   "outputs": [
    {
     "name": "stdout",
     "output_type": "stream",
     "text": [
      "Nama saya adalah Ari Sekar. Saya bekerja sebagai Mahasiswa di Universitas Udayana. \n"
     ]
    }
   ],
   "source": [
    "print(f\"Nama saya adalah {nama}. Saya bekerja sebagai {pekerjaan} di {institusi}. \")"
   ]
  },
  {
   "cell_type": "code",
   "execution_count": 3,
   "id": "df5d1bfa",
   "metadata": {},
   "outputs": [
    {
     "name": "stdout",
     "output_type": "stream",
     "text": [
      "Vladimir adalah seorang guru di SD Pertiwi.\n"
     ]
    }
   ],
   "source": [
    "nama = \"Vladimir\"\n",
    "pekerjaan = 'guru'\n",
    "institusi = 'SD Pertiwi'\n",
    "print(nama + ' adalah seorang ' + pekerjaan + ' di ' + institusi +'.')"
   ]
  },
  {
   "cell_type": "code",
   "execution_count": 4,
   "id": "76f9f691",
   "metadata": {},
   "outputs": [
    {
     "name": "stdout",
     "output_type": "stream",
     "text": [
      "Vladimir adalah seorang guru di SD Pertiwi.\n"
     ]
    }
   ],
   "source": [
    "print(f'{nama} adalah seorang {pekerjaan} di {institusi}.') "
   ]
  },
  {
   "cell_type": "code",
   "execution_count": 6,
   "id": "5333d253",
   "metadata": {},
   "outputs": [
    {
     "name": "stdout",
     "output_type": "stream",
     "text": [
      "Vladimir adalah seorang guru di SD Pertiwi.\n"
     ]
    }
   ],
   "source": [
    "print(f\"{nama} adalah seorang {pekerjaan} di {institusi}.\")"
   ]
  },
  {
   "cell_type": "code",
   "execution_count": null,
   "id": "94e65375",
   "metadata": {},
   "outputs": [],
   "source": []
  },
  {
   "cell_type": "code",
   "execution_count": null,
   "id": "04a43e95",
   "metadata": {},
   "outputs": [],
   "source": []
  },
  {
   "cell_type": "code",
   "execution_count": null,
   "id": "a80c03f2",
   "metadata": {},
   "outputs": [],
   "source": []
  },
  {
   "cell_type": "code",
   "execution_count": null,
   "id": "eb60607a",
   "metadata": {},
   "outputs": [],
   "source": []
  }
 ],
 "metadata": {
  "kernelspec": {
   "display_name": "Python 3 (ipykernel)",
   "language": "python",
   "name": "python3"
  },
  "language_info": {
   "codemirror_mode": {
    "name": "ipython",
    "version": 3
   },
   "file_extension": ".py",
   "mimetype": "text/x-python",
   "name": "python",
   "nbconvert_exporter": "python",
   "pygments_lexer": "ipython3",
   "version": "3.9.7"
  }
 },
 "nbformat": 4,
 "nbformat_minor": 5
}
