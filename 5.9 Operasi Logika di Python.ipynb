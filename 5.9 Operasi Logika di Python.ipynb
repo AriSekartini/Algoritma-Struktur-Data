{
 "cells": [
  {
   "cell_type": "code",
   "execution_count": 1,
   "id": "6fb4257a",
   "metadata": {},
   "outputs": [
    {
     "name": "stdout",
     "output_type": "stream",
     "text": [
      "True\n"
     ]
    }
   ],
   "source": [
    "buah_manggis = 10\n",
    "buah_mangga =15\n",
    "print(buah_manggis > 8 and buah_mangga < 20)"
   ]
  },
  {
   "cell_type": "code",
   "execution_count": 2,
   "id": "8f154586",
   "metadata": {},
   "outputs": [
    {
     "name": "stdout",
     "output_type": "stream",
     "text": [
      "True\n"
     ]
    }
   ],
   "source": [
    "print (buah_manggis < 8 or buah_mangga < 20)"
   ]
  },
  {
   "cell_type": "code",
   "execution_count": 3,
   "id": "a744c988",
   "metadata": {},
   "outputs": [
    {
     "name": "stdout",
     "output_type": "stream",
     "text": [
      "False\n"
     ]
    }
   ],
   "source": [
    "print(buah_manggis < 8 or buah_mangga > 20)"
   ]
  },
  {
   "cell_type": "code",
   "execution_count": 4,
   "id": "3d1972da",
   "metadata": {},
   "outputs": [
    {
     "name": "stdout",
     "output_type": "stream",
     "text": [
      "True\n"
     ]
    }
   ],
   "source": [
    "print(not (buah_manggis < 8 or buah_mangga > 20))"
   ]
  },
  {
   "cell_type": "code",
   "execution_count": 5,
   "id": "2c290c4e",
   "metadata": {},
   "outputs": [
    {
     "name": "stdout",
     "output_type": "stream",
     "text": [
      "False\n"
     ]
    }
   ],
   "source": [
    "ari = 18 \n",
    "adi = 20 \n",
    "print(ari < 10 and adi > 10)"
   ]
  },
  {
   "cell_type": "code",
   "execution_count": 6,
   "id": "00ed02ba",
   "metadata": {},
   "outputs": [
    {
     "name": "stdout",
     "output_type": "stream",
     "text": [
      "True\n"
     ]
    }
   ],
   "source": [
    "print(ari > 10 and adi > 10)"
   ]
  },
  {
   "cell_type": "code",
   "execution_count": 7,
   "id": "cc01592b",
   "metadata": {},
   "outputs": [
    {
     "name": "stdout",
     "output_type": "stream",
     "text": [
      "False\n"
     ]
    }
   ],
   "source": [
    "print(ari < 15 or adi < 15)"
   ]
  },
  {
   "cell_type": "code",
   "execution_count": 8,
   "id": "4b5cfbb4",
   "metadata": {},
   "outputs": [
    {
     "name": "stdout",
     "output_type": "stream",
     "text": [
      "True\n"
     ]
    }
   ],
   "source": [
    "print(ari < 15 or adi > 15)"
   ]
  },
  {
   "cell_type": "code",
   "execution_count": 9,
   "id": "efb7b9d7",
   "metadata": {},
   "outputs": [
    {
     "name": "stdout",
     "output_type": "stream",
     "text": [
      "False\n"
     ]
    }
   ],
   "source": [
    "print(not (ari > 17 or adi > 19))"
   ]
  },
  {
   "cell_type": "code",
   "execution_count": 10,
   "id": "8a827423",
   "metadata": {},
   "outputs": [
    {
     "name": "stdout",
     "output_type": "stream",
     "text": [
      "False\n"
     ]
    }
   ],
   "source": [
    "print(not (ari > 17 and adi > 19))"
   ]
  },
  {
   "cell_type": "code",
   "execution_count": null,
   "id": "cb82d9d1",
   "metadata": {},
   "outputs": [],
   "source": []
  },
  {
   "cell_type": "code",
   "execution_count": null,
   "id": "0e7009b2",
   "metadata": {},
   "outputs": [],
   "source": []
  },
  {
   "cell_type": "code",
   "execution_count": null,
   "id": "787dd449",
   "metadata": {},
   "outputs": [],
   "source": []
  }
 ],
 "metadata": {
  "kernelspec": {
   "display_name": "Python 3 (ipykernel)",
   "language": "python",
   "name": "python3"
  },
  "language_info": {
   "codemirror_mode": {
    "name": "ipython",
    "version": 3
   },
   "file_extension": ".py",
   "mimetype": "text/x-python",
   "name": "python",
   "nbconvert_exporter": "python",
   "pygments_lexer": "ipython3",
   "version": "3.9.7"
  }
 },
 "nbformat": 4,
 "nbformat_minor": 5
}
