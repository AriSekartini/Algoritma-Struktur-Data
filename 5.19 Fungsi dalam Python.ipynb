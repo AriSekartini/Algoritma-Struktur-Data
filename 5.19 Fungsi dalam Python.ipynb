{
 "cells": [
  {
   "cell_type": "code",
   "execution_count": 3,
   "id": "895c8a4a",
   "metadata": {},
   "outputs": [],
   "source": [
    "def full_nama(first_name,last_name):\n",
    "    print(f\"Nama Lengkapnya adalah {first_name} {last_name}\")"
   ]
  },
  {
   "cell_type": "code",
   "execution_count": 4,
   "id": "3f7685b9",
   "metadata": {},
   "outputs": [
    {
     "name": "stdout",
     "output_type": "stream",
     "text": [
      "Nama depan anda adalah Adi\n",
      "Nama belakang anda adalah Sanjaya\n",
      "Nama Lengkapnya adalah  Adi  Sanjaya\n"
     ]
    }
   ],
   "source": [
    "first_name = input(\"Nama depan anda adalah\")\n",
    "last_name = input(\"Nama belakang anda adalah\")\n",
    "full_nama(first_name,last_name)"
   ]
  },
  {
   "cell_type": "code",
   "execution_count": 5,
   "id": "ff957ae3",
   "metadata": {},
   "outputs": [
    {
     "name": "stdout",
     "output_type": "stream",
     "text": [
      "Nama depan anda adalah Ari\n",
      "Nama belakang anda adalah Sekartini\n",
      "Nama Lengkapnya adalah  Ari  Sekartini\n"
     ]
    }
   ],
   "source": [
    "first_name = input(\"Nama depan anda adalah\")\n",
    "last_name = input(\"Nama belakang anda adalah\")\n",
    "full_nama(first_name,last_name)"
   ]
  },
  {
   "cell_type": "code",
   "execution_count": 6,
   "id": "7f1b46e2",
   "metadata": {},
   "outputs": [],
   "source": [
    "def nama_lengkap(nama_depan,nama_belakang):\n",
    "    return print(f\"Nama Lengkapnya adalah {nama_depan} {nama_belakang}\")"
   ]
  },
  {
   "cell_type": "code",
   "execution_count": 9,
   "id": "5cd2f5ac",
   "metadata": {},
   "outputs": [
    {
     "name": "stdout",
     "output_type": "stream",
     "text": [
      "Nama depan anda adalah adi\n",
      "Nama belakang anda adalah sanjaya\n"
     ]
    },
    {
     "ename": "NameError",
     "evalue": "name 'nama_lengkap' is not defined",
     "output_type": "error",
     "traceback": [
      "\u001b[1;31m---------------------------------------------------------------------------\u001b[0m",
      "\u001b[1;31mNameError\u001b[0m                                 Traceback (most recent call last)",
      "\u001b[1;32m~\\AppData\\Local\\Temp/ipykernel_2520/1060269391.py\u001b[0m in \u001b[0;36m<module>\u001b[1;34m\u001b[0m\n\u001b[0;32m      1\u001b[0m \u001b[0mnama_depan\u001b[0m \u001b[1;33m=\u001b[0m \u001b[0minput\u001b[0m\u001b[1;33m(\u001b[0m\u001b[1;34m\"Nama depan anda adalah \"\u001b[0m\u001b[1;33m)\u001b[0m\u001b[1;33m\u001b[0m\u001b[1;33m\u001b[0m\u001b[0m\n\u001b[0;32m      2\u001b[0m \u001b[0mnama_belakang\u001b[0m \u001b[1;33m=\u001b[0m \u001b[0minput\u001b[0m\u001b[1;33m(\u001b[0m\u001b[1;34m\"Nama belakang anda adalah \"\u001b[0m\u001b[1;33m)\u001b[0m\u001b[1;33m\u001b[0m\u001b[1;33m\u001b[0m\u001b[0m\n\u001b[1;32m----> 3\u001b[1;33m \u001b[0mnama_lengkap\u001b[0m\u001b[1;33m(\u001b[0m\u001b[0mnama_depan\u001b[0m\u001b[1;33m,\u001b[0m\u001b[0mnama_belakang\u001b[0m\u001b[1;33m)\u001b[0m\u001b[1;33m\u001b[0m\u001b[1;33m\u001b[0m\u001b[0m\n\u001b[0m",
      "\u001b[1;31mNameError\u001b[0m: name 'nama_lengkap' is not defined"
     ]
    }
   ],
   "source": [
    "nama_depan = input(\"Nama depan anda adalah \")\n",
    "nama_belakang = input(\"Nama belakang anda adalah \")\n",
    "nama_lengkap(nama_depan,nama_belakang)"
   ]
  },
  {
   "cell_type": "code",
   "execution_count": null,
   "id": "2a52e156",
   "metadata": {},
   "outputs": [],
   "source": []
  }
 ],
 "metadata": {
  "kernelspec": {
   "display_name": "Python 3 (ipykernel)",
   "language": "python",
   "name": "python3"
  },
  "language_info": {
   "codemirror_mode": {
    "name": "ipython",
    "version": 3
   },
   "file_extension": ".py",
   "mimetype": "text/x-python",
   "name": "python",
   "nbconvert_exporter": "python",
   "pygments_lexer": "ipython3",
   "version": "3.9.7"
  }
 },
 "nbformat": 4,
 "nbformat_minor": 5
}
