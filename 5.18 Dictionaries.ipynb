{
 "cells": [
  {
   "cell_type": "code",
   "execution_count": 1,
   "id": "d0918b51",
   "metadata": {},
   "outputs": [],
   "source": [
    "data_orang = {\n",
    "    \"nama\" : \"Ketut Dogler\",\n",
    "    \"umur\" : 12,\n",
    "    \"apakah_singel\" : False\n",
    "}"
   ]
  },
  {
   "cell_type": "code",
   "execution_count": 2,
   "id": "ecb96127",
   "metadata": {},
   "outputs": [
    {
     "name": "stdout",
     "output_type": "stream",
     "text": [
      "Ketut Dogler\n"
     ]
    }
   ],
   "source": [
    "print(data_orang['nama'])"
   ]
  },
  {
   "cell_type": "code",
   "execution_count": 3,
   "id": "adce529c",
   "metadata": {},
   "outputs": [
    {
     "ename": "KeyError",
     "evalue": "'Nama'",
     "output_type": "error",
     "traceback": [
      "\u001b[1;31m---------------------------------------------------------------------------\u001b[0m",
      "\u001b[1;31mKeyError\u001b[0m                                  Traceback (most recent call last)",
      "\u001b[1;32m~\\AppData\\Local\\Temp/ipykernel_2388/1883148979.py\u001b[0m in \u001b[0;36m<module>\u001b[1;34m\u001b[0m\n\u001b[1;32m----> 1\u001b[1;33m \u001b[0mprint\u001b[0m\u001b[1;33m(\u001b[0m\u001b[0mdata_orang\u001b[0m\u001b[1;33m[\u001b[0m\u001b[1;34m'Nama'\u001b[0m\u001b[1;33m]\u001b[0m\u001b[1;33m)\u001b[0m\u001b[1;33m\u001b[0m\u001b[1;33m\u001b[0m\u001b[0m\n\u001b[0m",
      "\u001b[1;31mKeyError\u001b[0m: 'Nama'"
     ]
    }
   ],
   "source": [
    "print(data_orang['Nama'])"
   ]
  },
  {
   "cell_type": "code",
   "execution_count": 4,
   "id": "cf5c4f3c",
   "metadata": {},
   "outputs": [
    {
     "name": "stdout",
     "output_type": "stream",
     "text": [
      "Ketut Dogler\n"
     ]
    }
   ],
   "source": [
    "print(data_orang.get('nama'))"
   ]
  },
  {
   "cell_type": "code",
   "execution_count": 5,
   "id": "9daa5a31",
   "metadata": {},
   "outputs": [
    {
     "name": "stdout",
     "output_type": "stream",
     "text": [
      "None\n"
     ]
    }
   ],
   "source": [
    "print(data_orang.get('Nama'))"
   ]
  },
  {
   "cell_type": "code",
   "execution_count": 6,
   "id": "549a1dd1",
   "metadata": {},
   "outputs": [
    {
     "name": "stdout",
     "output_type": "stream",
     "text": [
      "None\n"
     ]
    }
   ],
   "source": [
    "print(data_orang.get('tanggal_lahir'))"
   ]
  },
  {
   "cell_type": "code",
   "execution_count": 7,
   "id": "27c46f05",
   "metadata": {},
   "outputs": [
    {
     "name": "stdout",
     "output_type": "stream",
     "text": [
      "2-2-2010\n"
     ]
    }
   ],
   "source": [
    "print(data_orang.get('tanggal_lahir','2-2-2010'))"
   ]
  },
  {
   "cell_type": "code",
   "execution_count": 8,
   "id": "76b61250",
   "metadata": {},
   "outputs": [
    {
     "name": "stdout",
     "output_type": "stream",
     "text": [
      "{'nama': 'Ketut Dogler', 'umur': 12, 'apakah_singel': False}\n"
     ]
    }
   ],
   "source": [
    "print(data_orang)"
   ]
  },
  {
   "cell_type": "code",
   "execution_count": 9,
   "id": "f86faafa",
   "metadata": {},
   "outputs": [
    {
     "ename": "KeyError",
     "evalue": "'tanggal_lahir'",
     "output_type": "error",
     "traceback": [
      "\u001b[1;31m---------------------------------------------------------------------------\u001b[0m",
      "\u001b[1;31mKeyError\u001b[0m                                  Traceback (most recent call last)",
      "\u001b[1;32m~\\AppData\\Local\\Temp/ipykernel_2388/3463751171.py\u001b[0m in \u001b[0;36m<module>\u001b[1;34m\u001b[0m\n\u001b[1;32m----> 1\u001b[1;33m \u001b[0mprint\u001b[0m\u001b[1;33m(\u001b[0m\u001b[0mdata_orang\u001b[0m\u001b[1;33m[\u001b[0m\u001b[1;34m\"tanggal_lahir\"\u001b[0m\u001b[1;33m]\u001b[0m\u001b[1;33m)\u001b[0m\u001b[1;33m\u001b[0m\u001b[1;33m\u001b[0m\u001b[0m\n\u001b[0m",
      "\u001b[1;31mKeyError\u001b[0m: 'tanggal_lahir'"
     ]
    }
   ],
   "source": [
    "print(data_orang[\"tanggal_lahir\"])"
   ]
  },
  {
   "cell_type": "code",
   "execution_count": 10,
   "id": "f8b82501",
   "metadata": {},
   "outputs": [],
   "source": [
    "data_orang['HP'] = '08123456789'"
   ]
  },
  {
   "cell_type": "code",
   "execution_count": 11,
   "id": "f1f85711",
   "metadata": {},
   "outputs": [
    {
     "name": "stdout",
     "output_type": "stream",
     "text": [
      "08123456789\n"
     ]
    }
   ],
   "source": [
    "print(data_orang[\"HP\"])"
   ]
  },
  {
   "cell_type": "code",
   "execution_count": 12,
   "id": "9b2076d1",
   "metadata": {},
   "outputs": [
    {
     "name": "stdout",
     "output_type": "stream",
     "text": [
      "{'nama': 'Ketut Dogler', 'umur': 12, 'apakah_singel': False, 'HP': '08123456789'}\n"
     ]
    }
   ],
   "source": [
    "print(data_orang)"
   ]
  },
  {
   "cell_type": "code",
   "execution_count": 14,
   "id": "5ec4107d",
   "metadata": {},
   "outputs": [],
   "source": [
    "data_orang['Alamat'] = 'Jalan batukaru'"
   ]
  },
  {
   "cell_type": "code",
   "execution_count": 15,
   "id": "683e74db",
   "metadata": {},
   "outputs": [
    {
     "name": "stdout",
     "output_type": "stream",
     "text": [
      "Jalan batukaru\n"
     ]
    }
   ],
   "source": [
    "print(data_orang[\"Alamat\"])"
   ]
  },
  {
   "cell_type": "code",
   "execution_count": 16,
   "id": "a670c006",
   "metadata": {},
   "outputs": [
    {
     "name": "stdout",
     "output_type": "stream",
     "text": [
      "{'nama': 'Ketut Dogler', 'umur': 12, 'apakah_singel': False, 'HP': '08123456789', 'Alamat': 'Jalan batukaru'}\n"
     ]
    }
   ],
   "source": [
    "print(data_orang)"
   ]
  },
  {
   "cell_type": "code",
   "execution_count": null,
   "id": "766f1a07",
   "metadata": {},
   "outputs": [],
   "source": []
  }
 ],
 "metadata": {
  "kernelspec": {
   "display_name": "Python 3 (ipykernel)",
   "language": "python",
   "name": "python3"
  },
  "language_info": {
   "codemirror_mode": {
    "name": "ipython",
    "version": 3
   },
   "file_extension": ".py",
   "mimetype": "text/x-python",
   "name": "python",
   "nbconvert_exporter": "python",
   "pygments_lexer": "ipython3",
   "version": "3.9.7"
  }
 },
 "nbformat": 4,
 "nbformat_minor": 5
}
