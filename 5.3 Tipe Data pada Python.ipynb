{
 "cells": [
  {
   "cell_type": "code",
   "execution_count": 1,
   "id": "ebc63545",
   "metadata": {},
   "outputs": [
    {
     "name": "stdout",
     "output_type": "stream",
     "text": [
      "saya\n"
     ]
    }
   ],
   "source": [
    "a = \"saya\"\n",
    "print (a)"
   ]
  },
  {
   "cell_type": "code",
   "execution_count": 2,
   "id": "abeead4c",
   "metadata": {},
   "outputs": [
    {
     "data": {
      "text/plain": [
       "str"
      ]
     },
     "execution_count": 2,
     "metadata": {},
     "output_type": "execute_result"
    }
   ],
   "source": [
    "type(a)"
   ]
  },
  {
   "cell_type": "code",
   "execution_count": 4,
   "id": "a6853e58",
   "metadata": {},
   "outputs": [],
   "source": [
    "b = 5"
   ]
  },
  {
   "cell_type": "code",
   "execution_count": 5,
   "id": "2cda7e29",
   "metadata": {},
   "outputs": [
    {
     "data": {
      "text/plain": [
       "int"
      ]
     },
     "execution_count": 5,
     "metadata": {},
     "output_type": "execute_result"
    }
   ],
   "source": [
    "type(b)"
   ]
  },
  {
   "cell_type": "code",
   "execution_count": 6,
   "id": "6e25ef07",
   "metadata": {},
   "outputs": [],
   "source": [
    "c = \"5\"\n",
    "e = float (c)"
   ]
  },
  {
   "cell_type": "code",
   "execution_count": 13,
   "id": "ecdbdc10",
   "metadata": {},
   "outputs": [
    {
     "ename": "NameError",
     "evalue": "name 'e' is not defined",
     "output_type": "error",
     "traceback": [
      "\u001b[1;31m---------------------------------------------------------------------------\u001b[0m",
      "\u001b[1;31mNameError\u001b[0m                                 Traceback (most recent call last)",
      "\u001b[1;32m~\\AppData\\Local\\Temp/ipykernel_6880/3461498820.py\u001b[0m in \u001b[0;36m<module>\u001b[1;34m\u001b[0m\n\u001b[1;32m----> 1\u001b[1;33m \u001b[0md\u001b[0m \u001b[1;33m=\u001b[0m \u001b[0me\u001b[0m\u001b[1;33m**\u001b[0m\u001b[1;36m2\u001b[0m\u001b[1;33m\u001b[0m\u001b[1;33m\u001b[0m\u001b[0m\n\u001b[0m\u001b[0;32m      2\u001b[0m \u001b[0mprint\u001b[0m \u001b[1;33m(\u001b[0m\u001b[0md\u001b[0m\u001b[1;33m)\u001b[0m\u001b[1;33m\u001b[0m\u001b[1;33m\u001b[0m\u001b[0m\n",
      "\u001b[1;31mNameError\u001b[0m: name 'e' is not defined"
     ]
    }
   ],
   "source": [
    "d = e**2\n",
    "print (d)"
   ]
  },
  {
   "cell_type": "code",
   "execution_count": 14,
   "id": "97c12c29",
   "metadata": {},
   "outputs": [
    {
     "name": "stdout",
     "output_type": "stream",
     "text": [
      "Masukkan bilangan pertama anda: 2.3\n",
      "Masukkan bilangan kedua anda: 5.5\n",
      "7.8\n"
     ]
    }
   ],
   "source": [
    "bilangan_satu = input (\"Masukkan bilangan pertama anda: \")\n",
    "bilangan_kedua = input (\"Masukkan bilangan kedua anda: \")\n",
    "\n",
    "jumlah_bilangan = float(bilangan_satu) + float(bilangan_kedua)\n",
    "\n",
    "print (jumlah_bilangan)"
   ]
  },
  {
   "cell_type": "code",
   "execution_count": 15,
   "id": "36456cc3",
   "metadata": {},
   "outputs": [
    {
     "name": "stdout",
     "output_type": "stream",
     "text": [
      "Berapakah jumlah uang di dompe anda? 50000\n",
      "Berapakah jumlah uang anda di Bank? 100000\n",
      "Total uang anda adalah Rp 50000100000\n"
     ]
    }
   ],
   "source": [
    "uang_di_dompet = input(\"Berapakah jumlah uang di dompe anda? \")\n",
    "uang_di_bank = input(\"Berapakah jumlah uang anda di Bank? \")\n",
    "print(\"Total uang anda adalah Rp \" + uang_di_dompet + uang_di_bank)"
   ]
  },
  {
   "cell_type": "code",
   "execution_count": 16,
   "id": "dd9bd33b",
   "metadata": {},
   "outputs": [
    {
     "name": "stdout",
     "output_type": "stream",
     "text": [
      "Berapakah jumlah uang di dompe anda? 50000\n",
      "Berapakah jumlah uang anda di Bank? 100000\n",
      "Total uang anda adalah Rp 150000\n"
     ]
    }
   ],
   "source": [
    "uang_di_dompet = input(\"Berapakah jumlah uang di dompe anda? \")\n",
    "uang_di_bank = input(\"Berapakah jumlah uang anda di Bank? \")\n",
    "total_uang = int(uang_di_dompet) + int(uang_di_bank)\n",
    "print(\"Total uang anda adalah Rp \"+ str(total_uang))"
   ]
  },
  {
   "cell_type": "code",
   "execution_count": 17,
   "id": "4fbd3658",
   "metadata": {},
   "outputs": [
    {
     "name": "stdout",
     "output_type": "stream",
     "text": [
      "Masukkan bilangan pertama anda: 5\n",
      "Masukkan bilangan kedua anda: 3\n",
      "Masukkan bilangan ketiga anda: 10\n",
      "18.0\n"
     ]
    }
   ],
   "source": [
    "bilangan_satu = input (\"Masukkan bilangan pertama anda: \")\n",
    "bilangan_kedua = input (\"Masukkan bilangan kedua anda: \")\n",
    "bilangan_ketiga = input (\"Masukkan bilangan ketiga anda: \")\n",
    "\n",
    "jumlah_bilangan = float(bilangan_satu) + float(bilangan_kedua) + float(bilangan_ketiga)\n",
    "\n",
    "print (jumlah_bilangan)"
   ]
  },
  {
   "cell_type": "code",
   "execution_count": null,
   "id": "453ae883",
   "metadata": {},
   "outputs": [],
   "source": []
  },
  {
   "cell_type": "code",
   "execution_count": null,
   "id": "58f0972d",
   "metadata": {},
   "outputs": [],
   "source": []
  },
  {
   "cell_type": "code",
   "execution_count": null,
   "id": "844f22e6",
   "metadata": {},
   "outputs": [],
   "source": []
  }
 ],
 "metadata": {
  "kernelspec": {
   "display_name": "Python 3 (ipykernel)",
   "language": "python",
   "name": "python3"
  },
  "language_info": {
   "codemirror_mode": {
    "name": "ipython",
    "version": 3
   },
   "file_extension": ".py",
   "mimetype": "text/x-python",
   "name": "python",
   "nbconvert_exporter": "python",
   "pygments_lexer": "ipython3",
   "version": "3.9.7"
  }
 },
 "nbformat": 4,
 "nbformat_minor": 5
}
