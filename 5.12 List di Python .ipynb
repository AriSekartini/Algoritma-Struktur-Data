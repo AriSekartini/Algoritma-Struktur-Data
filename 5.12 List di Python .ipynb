{
 "cells": [
  {
   "cell_type": "code",
   "execution_count": 1,
   "id": "f0b2a2d5",
   "metadata": {},
   "outputs": [
    {
     "name": "stdout",
     "output_type": "stream",
     "text": [
      "['mangga', 'pisang', 'rambutan', 'durian']\n"
     ]
    }
   ],
   "source": [
    "buah = ['mangga', 'pisang', 'rambutan', 'durian']\n",
    "print(buah)"
   ]
  },
  {
   "cell_type": "code",
   "execution_count": 2,
   "id": "63921bbc",
   "metadata": {},
   "outputs": [
    {
     "name": "stdout",
     "output_type": "stream",
     "text": [
      "mangga\n"
     ]
    }
   ],
   "source": [
    "print(buah[0])"
   ]
  },
  {
   "cell_type": "code",
   "execution_count": 3,
   "id": "bac34f92",
   "metadata": {},
   "outputs": [
    {
     "name": "stdout",
     "output_type": "stream",
     "text": [
      "rambutan\n"
     ]
    }
   ],
   "source": [
    "print(buah[2])"
   ]
  },
  {
   "cell_type": "code",
   "execution_count": 4,
   "id": "cf5056b5",
   "metadata": {},
   "outputs": [
    {
     "name": "stdout",
     "output_type": "stream",
     "text": [
      "durian\n"
     ]
    }
   ],
   "source": [
    "print(buah[-1])"
   ]
  },
  {
   "cell_type": "code",
   "execution_count": 5,
   "id": "27249cb9",
   "metadata": {},
   "outputs": [
    {
     "name": "stdout",
     "output_type": "stream",
     "text": [
      "rambutan\n"
     ]
    }
   ],
   "source": [
    "print(buah[-2])"
   ]
  },
  {
   "cell_type": "code",
   "execution_count": 6,
   "id": "2a48fcee",
   "metadata": {},
   "outputs": [
    {
     "name": "stdout",
     "output_type": "stream",
     "text": [
      "['salak', 'pisang', 'rambutan', 'durian']\n"
     ]
    }
   ],
   "source": [
    "buah[0] = 'salak'\n",
    "print(buah)"
   ]
  },
  {
   "cell_type": "code",
   "execution_count": 7,
   "id": "7c578c14",
   "metadata": {},
   "outputs": [
    {
     "name": "stdout",
     "output_type": "stream",
     "text": [
      "['salak', 'pisang', 'rambutan']\n"
     ]
    }
   ],
   "source": [
    "print(buah[0:3])"
   ]
  },
  {
   "cell_type": "code",
   "execution_count": 8,
   "id": "df0ce44b",
   "metadata": {},
   "outputs": [
    {
     "name": "stdout",
     "output_type": "stream",
     "text": [
      "['salak', 'pisang', 'rambutan', 'durian']\n"
     ]
    }
   ],
   "source": [
    "# tidak merubah list\n",
    "print(buah)"
   ]
  },
  {
   "cell_type": "code",
   "execution_count": null,
   "id": "8b4cf0bf",
   "metadata": {},
   "outputs": [],
   "source": [
    "buah[1] = 'silik'\n"
   ]
  }
 ],
 "metadata": {
  "kernelspec": {
   "display_name": "Python 3 (ipykernel)",
   "language": "python",
   "name": "python3"
  },
  "language_info": {
   "codemirror_mode": {
    "name": "ipython",
    "version": 3
   },
   "file_extension": ".py",
   "mimetype": "text/x-python",
   "name": "python",
   "nbconvert_exporter": "python",
   "pygments_lexer": "ipython3",
   "version": "3.9.7"
  }
 },
 "nbformat": 4,
 "nbformat_minor": 5
}
