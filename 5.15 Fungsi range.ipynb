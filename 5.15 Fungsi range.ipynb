{
 "cells": [
  {
   "cell_type": "code",
   "execution_count": 1,
   "id": "2b53a9a7",
   "metadata": {},
   "outputs": [
    {
     "name": "stdout",
     "output_type": "stream",
     "text": [
      "range(0, 6)\n"
     ]
    }
   ],
   "source": [
    "angka = range (6)\n",
    "print (angka)"
   ]
  },
  {
   "cell_type": "code",
   "execution_count": 2,
   "id": "38493ce4",
   "metadata": {},
   "outputs": [
    {
     "name": "stdout",
     "output_type": "stream",
     "text": [
      "0\n",
      "1\n",
      "2\n",
      "3\n",
      "4\n",
      "5\n"
     ]
    }
   ],
   "source": [
    "for isi in angka:\n",
    "    print(isi)"
   ]
  },
  {
   "cell_type": "code",
   "execution_count": 3,
   "id": "79e8f2e3",
   "metadata": {},
   "outputs": [
    {
     "name": "stdout",
     "output_type": "stream",
     "text": [
      "5\n",
      "6\n",
      "7\n",
      "8\n",
      "9\n"
     ]
    }
   ],
   "source": [
    "for isi in range(5,10):\n",
    "    print(isi)"
   ]
  },
  {
   "cell_type": "code",
   "execution_count": 4,
   "id": "57ce54e5",
   "metadata": {},
   "outputs": [
    {
     "name": "stdout",
     "output_type": "stream",
     "text": [
      "0\n",
      "2\n",
      "4\n",
      "6\n",
      "8\n"
     ]
    }
   ],
   "source": [
    "for isi in range(0,10,2):\n",
    "    print(isi)"
   ]
  },
  {
   "cell_type": "code",
   "execution_count": 5,
   "id": "290e5f14",
   "metadata": {},
   "outputs": [
    {
     "name": "stdout",
     "output_type": "stream",
     "text": [
      "0\n",
      "3\n",
      "6\n",
      "9\n",
      "12\n",
      "15\n",
      "18\n",
      "21\n",
      "24\n",
      "27\n"
     ]
    }
   ],
   "source": [
    "for isi in range(0,30,3):\n",
    "    print(isi)"
   ]
  },
  {
   "cell_type": "code",
   "execution_count": 6,
   "id": "907c7ab1",
   "metadata": {},
   "outputs": [
    {
     "name": "stdout",
     "output_type": "stream",
     "text": [
      "range(0, 10)\n"
     ]
    }
   ],
   "source": [
    "angka = range (10)\n",
    "print(angka)"
   ]
  },
  {
   "cell_type": "code",
   "execution_count": 7,
   "id": "28afe274",
   "metadata": {},
   "outputs": [
    {
     "name": "stdout",
     "output_type": "stream",
     "text": [
      "range(0, 10)\n"
     ]
    }
   ],
   "source": [
    "angka = range (0,10)\n",
    "print(angka)"
   ]
  },
  {
   "cell_type": "code",
   "execution_count": 8,
   "id": "dc9ddfff",
   "metadata": {},
   "outputs": [
    {
     "name": "stdout",
     "output_type": "stream",
     "text": [
      "range(2, 10)\n"
     ]
    }
   ],
   "source": [
    "angka = range (2,10)\n",
    "print(angka)"
   ]
  },
  {
   "cell_type": "code",
   "execution_count": 9,
   "id": "ccc0488d",
   "metadata": {},
   "outputs": [
    {
     "name": "stdout",
     "output_type": "stream",
     "text": [
      "0\n",
      "1\n",
      "2\n",
      "3\n",
      "4\n",
      "5\n",
      "6\n",
      "7\n",
      "8\n",
      "9\n"
     ]
    }
   ],
   "source": [
    "for isi in range(0, 10, 1):\n",
    "    print(isi)"
   ]
  },
  {
   "cell_type": "code",
   "execution_count": 12,
   "id": "011ce53e",
   "metadata": {},
   "outputs": [
    {
     "name": "stdout",
     "output_type": "stream",
     "text": [
      "0\n",
      "2\n",
      "4\n",
      "6\n",
      "8\n",
      "10\n",
      "12\n",
      "14\n",
      "16\n",
      "18\n"
     ]
    }
   ],
   "source": [
    "for isi in range(0,20,2):\n",
    "    print(isi)"
   ]
  },
  {
   "cell_type": "code",
   "execution_count": 13,
   "id": "eb82e716",
   "metadata": {},
   "outputs": [],
   "source": [
    "for isi in range(20,2):\n",
    "    print(isi)"
   ]
  },
  {
   "cell_type": "code",
   "execution_count": null,
   "id": "b8c61b4a",
   "metadata": {},
   "outputs": [],
   "source": []
  }
 ],
 "metadata": {
  "kernelspec": {
   "display_name": "Python 3 (ipykernel)",
   "language": "python",
   "name": "python3"
  },
  "language_info": {
   "codemirror_mode": {
    "name": "ipython",
    "version": 3
   },
   "file_extension": ".py",
   "mimetype": "text/x-python",
   "name": "python",
   "nbconvert_exporter": "python",
   "pygments_lexer": "ipython3",
   "version": "3.9.7"
  }
 },
 "nbformat": 4,
 "nbformat_minor": 5
}
