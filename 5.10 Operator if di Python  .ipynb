{
 "cells": [
  {
   "cell_type": "code",
   "execution_count": 2,
   "id": "27dc109f",
   "metadata": {},
   "outputs": [
    {
     "name": "stdout",
     "output_type": "stream",
     "text": [
      "Nilai anda adalah 100\n",
      "Anda mendapatkan nilai A\n",
      "Bagus sekali selamat\n"
     ]
    }
   ],
   "source": [
    "nilai = float(input(\"Nilai anda adalah\"))\n",
    "if nilai >= 80:\n",
    "    print(\"Anda mendapatkan nilai A\")\n",
    "    print(\"Bagus sekali selamat\")"
   ]
  },
  {
   "cell_type": "code",
   "execution_count": 3,
   "id": "546b9bdf",
   "metadata": {},
   "outputs": [],
   "source": [
    "if nilai < 80 and nilai >= 70:\n",
    "    print(\"Anda mendapatkan nilai B\")\n",
    "    print(\"Tingkatkan prestasimu!\")"
   ]
  },
  {
   "cell_type": "code",
   "execution_count": 4,
   "id": "27aa94a7",
   "metadata": {},
   "outputs": [],
   "source": [
    "if nilai >= 60 and nilai < 70:\n",
    "    print(\"Anda mendapatkan nilai C\")\n",
    "    print(\"Lain kali musti lebih baik\")"
   ]
  },
  {
   "cell_type": "code",
   "execution_count": 5,
   "id": "5d0dfce2",
   "metadata": {},
   "outputs": [],
   "source": [
    "if nilai >= 50 and nilai < 60:\n",
    "    print(\"Anda mendapatkan nilai D\")\n",
    "    print(\"Ulang lagi tahun depan\")"
   ]
  },
  {
   "cell_type": "code",
   "execution_count": 6,
   "id": "73e0485f",
   "metadata": {},
   "outputs": [],
   "source": [
    "if nilai < 50:\n",
    "    print(\"Anda mendapatkan nilai E\")\n",
    "    print(\"Sampai jumpa tahun depan\")"
   ]
  },
  {
   "cell_type": "code",
   "execution_count": 8,
   "id": "a6037870",
   "metadata": {},
   "outputs": [
    {
     "name": "stdout",
     "output_type": "stream",
     "text": [
      "Nilai anda adalah 90\n",
      "Anda mendapatkan nilai A\n",
      "Bagus sekali, selamat\n"
     ]
    }
   ],
   "source": [
    "nilai = float(input(\"Nilai anda adalah\"))\n",
    "if nilai >= 80:\n",
    "    print(\"Anda mendapatkan nilai A\")\n",
    "    print(\"Bagus sekali, selamat\")"
   ]
  },
  {
   "cell_type": "code",
   "execution_count": 9,
   "id": "37af8186",
   "metadata": {},
   "outputs": [
    {
     "ename": "SyntaxError",
     "evalue": "invalid syntax (Temp/ipykernel_400/3997281275.py, line 1)",
     "output_type": "error",
     "traceback": [
      "\u001b[1;36m  File \u001b[1;32m\"C:\\Users\\USER\\AppData\\Local\\Temp/ipykernel_400/3997281275.py\"\u001b[1;36m, line \u001b[1;32m1\u001b[0m\n\u001b[1;33m    elif nilai >= 70:\u001b[0m\n\u001b[1;37m    ^\u001b[0m\n\u001b[1;31mSyntaxError\u001b[0m\u001b[1;31m:\u001b[0m invalid syntax\n"
     ]
    }
   ],
   "source": [
    "elif nilai >= 70:\n",
    "    print(\"Anda mendapatkan nilai B\")\n",
    "    print(\"Tingkatkan prestasimu!\")"
   ]
  },
  {
   "cell_type": "code",
   "execution_count": 10,
   "id": "7dd791be",
   "metadata": {},
   "outputs": [
    {
     "ename": "SyntaxError",
     "evalue": "invalid syntax (Temp/ipykernel_400/1677719524.py, line 1)",
     "output_type": "error",
     "traceback": [
      "\u001b[1;36m  File \u001b[1;32m\"C:\\Users\\USER\\AppData\\Local\\Temp/ipykernel_400/1677719524.py\"\u001b[1;36m, line \u001b[1;32m1\u001b[0m\n\u001b[1;33m    elif nilai >=60:\u001b[0m\n\u001b[1;37m    ^\u001b[0m\n\u001b[1;31mSyntaxError\u001b[0m\u001b[1;31m:\u001b[0m invalid syntax\n"
     ]
    }
   ],
   "source": [
    "elif nilai >=60:\n",
    "    print(\"Anda mendapatkan nilai C\")\n",
    "    Print(\"Lain kali musti lebih baik\")"
   ]
  },
  {
   "cell_type": "code",
   "execution_count": 11,
   "id": "fd863542",
   "metadata": {},
   "outputs": [
    {
     "name": "stdout",
     "output_type": "stream",
     "text": [
      "Nilai anda adalah 90\n",
      "Anda mendapatkan nilai A\n",
      "Bagus sekali, selamat\n"
     ]
    }
   ],
   "source": [
    "nilai = float(input(\"Nilai anda adalah\"))\n",
    "if nilai >= 60:\n",
    "    print(\"Anda mendapatkan nilai A\")\n",
    "    print(\"Bagus sekali, selamat\")"
   ]
  },
  {
   "cell_type": "code",
   "execution_count": 12,
   "id": "bd52610a",
   "metadata": {},
   "outputs": [],
   "source": [
    "if nilai < 80 and nilai >= 70:\n",
    "    print(\"Anda mendapatkan nilai B\")\n",
    "    print(\"Tingkatkan prestasimu!\")"
   ]
  },
  {
   "cell_type": "code",
   "execution_count": null,
   "id": "eb438f58",
   "metadata": {},
   "outputs": [],
   "source": []
  }
 ],
 "metadata": {
  "kernelspec": {
   "display_name": "Python 3 (ipykernel)",
   "language": "python",
   "name": "python3"
  },
  "language_info": {
   "codemirror_mode": {
    "name": "ipython",
    "version": 3
   },
   "file_extension": ".py",
   "mimetype": "text/x-python",
   "name": "python",
   "nbconvert_exporter": "python",
   "pygments_lexer": "ipython3",
   "version": "3.9.7"
  }
 },
 "nbformat": 4,
 "nbformat_minor": 5
}
