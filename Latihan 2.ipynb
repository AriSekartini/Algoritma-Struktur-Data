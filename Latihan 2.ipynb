{
 "cells": [
  {
   "cell_type": "markdown",
   "id": "e0f493fa",
   "metadata": {},
   "source": [
    "1. Buatlah Program untuk mencari nilai terbesar di dalam suatu list. "
   ]
  },
  {
   "cell_type": "code",
   "execution_count": 20,
   "id": "0277ba6f",
   "metadata": {},
   "outputs": [
    {
     "name": "stdout",
     "output_type": "stream",
     "text": [
      "5\n"
     ]
    }
   ],
   "source": [
    "data = [1,2,3,4,5,4,3,2,1]\n",
    "terbesar = data[0]\n",
    "for i in range(len(data)):\n",
    "    if data[i] > terbesar:\n",
    "        terbesar = data[i]\n",
    "print(terbesar)"
   ]
  },
  {
   "cell_type": "code",
   "execution_count": 3,
   "id": "74e8c189",
   "metadata": {},
   "outputs": [
    {
     "name": "stdout",
     "output_type": "stream",
     "text": [
      "5\n"
     ]
    }
   ],
   "source": [
    "data = [1,2,3,4,5,4,3,2,1]\n",
    "terbesar = data[0]\n",
    "for angka in data:\n",
    "    if angka > terbesar:\n",
    "        terbesar = angka\n",
    "print(terbesar)"
   ]
  },
  {
   "cell_type": "code",
   "execution_count": 5,
   "id": "08bc91a8",
   "metadata": {},
   "outputs": [
    {
     "name": "stdout",
     "output_type": "stream",
     "text": [
      "10\n"
     ]
    }
   ],
   "source": [
    "data = [1,2,3,4,5,6,7,8,9,10]\n",
    "terbesar = data[1]\n",
    "for angka in data:\n",
    "    if angka > terbesar:\n",
    "        terbesar = angka\n",
    "print(terbesar)"
   ]
  },
  {
   "cell_type": "code",
   "execution_count": 6,
   "id": "a4449f57",
   "metadata": {},
   "outputs": [
    {
     "name": "stdout",
     "output_type": "stream",
     "text": [
      "10\n"
     ]
    }
   ],
   "source": [
    "data = [1,2,3,4,5,6,7,8,9,10]\n",
    "terbesar = data[5]\n",
    "for angka in data:\n",
    "    if angka > terbesar:\n",
    "        terbesar = angka\n",
    "print(terbesar)"
   ]
  },
  {
   "cell_type": "code",
   "execution_count": 8,
   "id": "22ed88e1",
   "metadata": {},
   "outputs": [
    {
     "name": "stdout",
     "output_type": "stream",
     "text": [
      "1\n"
     ]
    }
   ],
   "source": [
    "data = [1,2,3,4,5,4,3,2,1]\n",
    "terkecil = data[0]\n",
    "for angka in data:\n",
    "    if angka < terkecil:\n",
    "        terkecil = angka\n",
    "print(terkecil)"
   ]
  },
  {
   "cell_type": "code",
   "execution_count": 9,
   "id": "4970b3af",
   "metadata": {},
   "outputs": [
    {
     "name": "stdout",
     "output_type": "stream",
     "text": [
      "1\n"
     ]
    }
   ],
   "source": [
    "data = [1,2,3,4,5,6,7,8,9]\n",
    "terkecil = data[2]\n",
    "for angka in data:\n",
    "    if angka < terkecil:\n",
    "        terkecil = angka\n",
    "print(terkecil)"
   ]
  },
  {
   "cell_type": "code",
   "execution_count": 14,
   "id": "435792c8",
   "metadata": {},
   "outputs": [
    {
     "name": "stdout",
     "output_type": "stream",
     "text": [
      "1\n"
     ]
    }
   ],
   "source": [
    "data = [1,2,3,4,5,6,7,8,9]\n",
    "terkecil = data[4]\n",
    "for angka in data:\n",
    "    if angka < terkecil:\n",
    "        terkecil = angka\n",
    "print(terkecil)"
   ]
  },
  {
   "cell_type": "code",
   "execution_count": 17,
   "id": "d48b8dc4",
   "metadata": {},
   "outputs": [
    {
     "name": "stdout",
     "output_type": "stream",
     "text": [
      "1\n"
     ]
    }
   ],
   "source": [
    "data = [7,6,5,4,3,2,1]\n",
    "terkecil = data[0]\n",
    "for angka in data:\n",
    "    if angka < terkecil:\n",
    "        terkecil = angka\n",
    "print(terkecil)"
   ]
  },
  {
   "cell_type": "code",
   "execution_count": 18,
   "id": "531e1094",
   "metadata": {},
   "outputs": [
    {
     "name": "stdout",
     "output_type": "stream",
     "text": [
      "-9\n"
     ]
    }
   ],
   "source": [
    "data = [1,2,3,4,5,6,7,-8,-9]\n",
    "terkecil = data[4]\n",
    "for angka in data:\n",
    "    if angka < terkecil:\n",
    "        terkecil = angka\n",
    "print(terkecil)"
   ]
  },
  {
   "cell_type": "code",
   "execution_count": 19,
   "id": "c626176d",
   "metadata": {},
   "outputs": [
    {
     "name": "stdout",
     "output_type": "stream",
     "text": [
      "-1\n"
     ]
    }
   ],
   "source": [
    "data = [-1,-2,-3,-4,-5,-6,-7,-8,-9,-10]\n",
    "terbesar = data[-3]\n",
    "for angka in data:\n",
    "    if angka > terbesar:\n",
    "        terbesar = angka\n",
    "print(terbesar)"
   ]
  },
  {
   "cell_type": "code",
   "execution_count": null,
   "id": "229c506b",
   "metadata": {},
   "outputs": [],
   "source": []
  },
  {
   "cell_type": "markdown",
   "id": "de83fad1",
   "metadata": {},
   "source": [
    "2. Buatlah Program untuk membuat anggota list menjadi unik dengan kata lain tidak ada anggota list yang kembar."
   ]
  },
  {
   "cell_type": "code",
   "execution_count": 21,
   "id": "8b126df6",
   "metadata": {
    "scrolled": true
   },
   "outputs": [
    {
     "name": "stdout",
     "output_type": "stream",
     "text": [
      "[1, 2, 3, 4, 5, 6, 7, 8]\n"
     ]
    }
   ],
   "source": [
    "angka = [1,2,3,4,5,6,3,4,5,7,8,7]\n",
    "angka_unik = []\n",
    "for anggota in angka:\n",
    "    if anggota not in angka_unik:\n",
    "        angka_unik.append(anggota)\n",
    "print(angka_unik)"
   ]
  },
  {
   "cell_type": "code",
   "execution_count": 22,
   "id": "34bc31bb",
   "metadata": {},
   "outputs": [
    {
     "name": "stdout",
     "output_type": "stream",
     "text": [
      "[1, 2, 3, 4, 5, 6, 7, 8]\n"
     ]
    }
   ],
   "source": [
    "angka = [1,2,3,4,5,6,3,4,5,7,8,7,1,3,4]\n",
    "angka_unik = [1]\n",
    "for anggota in angka:\n",
    "    if anggota not in angka_unik:\n",
    "        angka_unik.append(anggota)\n",
    "print(angka_unik)"
   ]
  },
  {
   "cell_type": "code",
   "execution_count": 23,
   "id": "8eb7e1dc",
   "metadata": {},
   "outputs": [
    {
     "name": "stdout",
     "output_type": "stream",
     "text": [
      "[2, 1, 3, 4, 5, 6, 7, 8]\n"
     ]
    }
   ],
   "source": [
    "angka = [1,2,3,4,5,6,3,4,5,7,8,7]\n",
    "angka_unik = [2]\n",
    "for anggota in angka:\n",
    "    if anggota not in angka_unik:\n",
    "        angka_unik.append(anggota)\n",
    "print(angka_unik)"
   ]
  },
  {
   "cell_type": "code",
   "execution_count": null,
   "id": "39602d22",
   "metadata": {},
   "outputs": [],
   "source": []
  }
 ],
 "metadata": {
  "kernelspec": {
   "display_name": "Python 3 (ipykernel)",
   "language": "python",
   "name": "python3"
  },
  "language_info": {
   "codemirror_mode": {
    "name": "ipython",
    "version": 3
   },
   "file_extension": ".py",
   "mimetype": "text/x-python",
   "name": "python",
   "nbconvert_exporter": "python",
   "pygments_lexer": "ipython3",
   "version": "3.9.7"
  }
 },
 "nbformat": 4,
 "nbformat_minor": 5
}
