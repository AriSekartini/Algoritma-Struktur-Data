{
 "cells": [
  {
   "cell_type": "code",
   "execution_count": 1,
   "id": "d6b9477d",
   "metadata": {},
   "outputs": [
    {
     "name": "stdout",
     "output_type": "stream",
     "text": [
      "['Made', 'Eka', 'Dwi', 'Sari']\n"
     ]
    }
   ],
   "source": [
    "nama = ['Made', 'Eka', 'Dwi']\n",
    "nama.append('Sari')\n",
    "print(nama)"
   ]
  },
  {
   "cell_type": "code",
   "execution_count": 2,
   "id": "b03aa01f",
   "metadata": {},
   "outputs": [
    {
     "name": "stdout",
     "output_type": "stream",
     "text": [
      "['Dewi', 'Made', 'Eka', 'Dwi', 'Sari']\n"
     ]
    }
   ],
   "source": [
    "nama.insert(0,'Dewi')\n",
    "print(nama)"
   ]
  },
  {
   "cell_type": "code",
   "execution_count": 3,
   "id": "8fe498ee",
   "metadata": {},
   "outputs": [
    {
     "name": "stdout",
     "output_type": "stream",
     "text": [
      "['Dewi', 'Made', 'Dwi', 'Sari']\n"
     ]
    }
   ],
   "source": [
    "nama.remove('Eka')\n",
    "print(nama)"
   ]
  },
  {
   "cell_type": "code",
   "execution_count": 4,
   "id": "2851c9f5",
   "metadata": {},
   "outputs": [
    {
     "name": "stdout",
     "output_type": "stream",
     "text": [
      "False\n"
     ]
    }
   ],
   "source": [
    "print('Eka' in nama)"
   ]
  },
  {
   "cell_type": "code",
   "execution_count": 5,
   "id": "249a312f",
   "metadata": {},
   "outputs": [
    {
     "name": "stdout",
     "output_type": "stream",
     "text": [
      "True\n"
     ]
    }
   ],
   "source": [
    "print('Dewi' in nama)"
   ]
  },
  {
   "cell_type": "code",
   "execution_count": 6,
   "id": "4f968e23",
   "metadata": {},
   "outputs": [
    {
     "name": "stdout",
     "output_type": "stream",
     "text": [
      "4\n"
     ]
    }
   ],
   "source": [
    "print(len(nama))"
   ]
  },
  {
   "cell_type": "code",
   "execution_count": 7,
   "id": "8b6ee3c5",
   "metadata": {},
   "outputs": [
    {
     "name": "stdout",
     "output_type": "stream",
     "text": [
      "['Dewi', 'Made', 'Dira', 'Dwi', 'Sari']\n"
     ]
    }
   ],
   "source": [
    "nama.insert(2,'Dira')\n",
    "print(nama)"
   ]
  },
  {
   "cell_type": "code",
   "execution_count": 9,
   "id": "625af890",
   "metadata": {},
   "outputs": [
    {
     "name": "stdout",
     "output_type": "stream",
     "text": [
      "['Made', 'Dira', 'Dwi', 'Sari']\n"
     ]
    }
   ],
   "source": [
    "nama.remove('Dewi')\n",
    "print(nama)"
   ]
  },
  {
   "cell_type": "code",
   "execution_count": 10,
   "id": "e16c0fd0",
   "metadata": {},
   "outputs": [
    {
     "name": "stdout",
     "output_type": "stream",
     "text": [
      "['Dira', 'Dwi', 'Sari']\n"
     ]
    }
   ],
   "source": [
    "nama.remove('Made')\n",
    "print(nama)"
   ]
  },
  {
   "cell_type": "code",
   "execution_count": 11,
   "id": "b10506c7",
   "metadata": {},
   "outputs": [
    {
     "name": "stdout",
     "output_type": "stream",
     "text": [
      "['Ni Kadek', 'Dira', 'Dwi', 'Sari']\n"
     ]
    }
   ],
   "source": [
    "nama.insert(0,'Ni Kadek')\n",
    "print(nama)"
   ]
  },
  {
   "cell_type": "code",
   "execution_count": 12,
   "id": "e215fbb1",
   "metadata": {},
   "outputs": [
    {
     "name": "stdout",
     "output_type": "stream",
     "text": [
      "['Ni Kadek', 'Dwi', 'Sari']\n"
     ]
    }
   ],
   "source": [
    "nama.remove('Dira')\n",
    "print(nama)"
   ]
  },
  {
   "cell_type": "code",
   "execution_count": 13,
   "id": "d217a8c8",
   "metadata": {},
   "outputs": [
    {
     "name": "stdout",
     "output_type": "stream",
     "text": [
      "['Ni Kadek', 'Dwi', 'Sari', 'Dharmayanti']\n"
     ]
    }
   ],
   "source": [
    "nama.insert(3,'Dharmayanti')\n",
    "print(nama)"
   ]
  },
  {
   "cell_type": "code",
   "execution_count": 14,
   "id": "fb3e973b",
   "metadata": {},
   "outputs": [
    {
     "name": "stdout",
     "output_type": "stream",
     "text": [
      "['Adi', 'Sanjaya', 'Ari']\n"
     ]
    }
   ],
   "source": [
    "nama = ['Adi', 'Sanjaya', 'Ari']\n",
    "print(nama)"
   ]
  },
  {
   "cell_type": "code",
   "execution_count": 15,
   "id": "94123ca4",
   "metadata": {},
   "outputs": [
    {
     "name": "stdout",
     "output_type": "stream",
     "text": [
      "['Adi', 'Sanjaya', 'Ari', 'Sekar']\n"
     ]
    }
   ],
   "source": [
    "nama.insert(3,'Sekar')\n",
    "print(nama)"
   ]
  },
  {
   "cell_type": "code",
   "execution_count": 16,
   "id": "1637d6fa",
   "metadata": {},
   "outputs": [
    {
     "name": "stdout",
     "output_type": "stream",
     "text": [
      "['Adi', 'Sanjaya', 'Sayang', 'Ari', 'Sekar']\n"
     ]
    }
   ],
   "source": [
    "nama.insert(2,'Sayang')\n",
    "print(nama)"
   ]
  },
  {
   "cell_type": "code",
   "execution_count": 17,
   "id": "a9d73a82",
   "metadata": {},
   "outputs": [
    {
     "name": "stdout",
     "output_type": "stream",
     "text": [
      "['Sanjaya', 'Sayang', 'Ari', 'Sekar']\n"
     ]
    }
   ],
   "source": [
    "nama.remove('Adi')\n",
    "print(nama)"
   ]
  },
  {
   "cell_type": "code",
   "execution_count": 18,
   "id": "a5582587",
   "metadata": {},
   "outputs": [
    {
     "name": "stdout",
     "output_type": "stream",
     "text": [
      "['Sayang', 'Ari', 'Sekar']\n"
     ]
    }
   ],
   "source": [
    "nama.remove('Sanjaya')\n",
    "print(nama)"
   ]
  },
  {
   "cell_type": "code",
   "execution_count": 19,
   "id": "2d9e081d",
   "metadata": {},
   "outputs": [
    {
     "name": "stdout",
     "output_type": "stream",
     "text": [
      "['Adi Sanjaya', 'Sayang', 'Ari', 'Sekar']\n"
     ]
    }
   ],
   "source": [
    "nama.insert(0,'Adi Sanjaya')\n",
    "print(nama)"
   ]
  },
  {
   "cell_type": "code",
   "execution_count": 20,
   "id": "1b8fca85",
   "metadata": {},
   "outputs": [
    {
     "name": "stdout",
     "output_type": "stream",
     "text": [
      "['Adi Sanjaya', 'Sayang', 'Sekar']\n"
     ]
    }
   ],
   "source": [
    "nama.remove('Ari')\n",
    "print(nama)"
   ]
  },
  {
   "cell_type": "code",
   "execution_count": 21,
   "id": "ec95a181",
   "metadata": {},
   "outputs": [
    {
     "name": "stdout",
     "output_type": "stream",
     "text": [
      "['Adi Sanjaya', 'Sayang']\n"
     ]
    }
   ],
   "source": [
    "nama.remove('Sekar')\n",
    "print(nama)"
   ]
  },
  {
   "cell_type": "code",
   "execution_count": 22,
   "id": "b1c48ab5",
   "metadata": {},
   "outputs": [
    {
     "name": "stdout",
     "output_type": "stream",
     "text": [
      "['Adi Sanjaya', 'Sayang', 'Ari Sekar']\n"
     ]
    }
   ],
   "source": [
    "nama.insert(2,'Ari Sekar')\n",
    "print(nama)"
   ]
  },
  {
   "cell_type": "code",
   "execution_count": null,
   "id": "a6bbf27d",
   "metadata": {},
   "outputs": [],
   "source": []
  }
 ],
 "metadata": {
  "kernelspec": {
   "display_name": "Python 3 (ipykernel)",
   "language": "python",
   "name": "python3"
  },
  "language_info": {
   "codemirror_mode": {
    "name": "ipython",
    "version": 3
   },
   "file_extension": ".py",
   "mimetype": "text/x-python",
   "name": "python",
   "nbconvert_exporter": "python",
   "pygments_lexer": "ipython3",
   "version": "3.9.7"
  }
 },
 "nbformat": 4,
 "nbformat_minor": 5
}
